{
 "cells": [
  {
   "cell_type": "markdown",
   "metadata": {},
   "source": [
    "#### New to Plotly?\n",
    "\"Plotly's Python library is free and open source! [Get started](https://plotly.com/python/getting-started/) by downloading the client and [reading the primer](https://plotly.com/python/getting-started/).\\n\",\n",
    "\"<br>You can set up Plotly to work in [online](https://plotly.com/python/getting-started/#initialization-for-online-plotting) or [offline](https://plotly.com/python/getting-started/#initialization-for-offline-plotting) mode, or in [jupyter notebooks](https://plotly.com/python/getting-started/#start-plotting-online).\\n\",\n",
    "\"<br>We also have a quick-reference [cheatsheet](https://images.plot.ly/plotly-documentation/images/python_cheat_sheet.pdf) (new!) to help you get started!\""
   ]
  },
  {
   "cell_type": "code",
   "execution_count": 1,
   "metadata": {},
   "outputs": [
    {
     "data": {
      "text/plain": [
       "'3.10.0'"
      ]
     },
     "execution_count": 1,
     "metadata": {},
     "output_type": "execute_result"
    }
   ],
   "source": [
    "import plotly\n",
    "plotly.__version__"
   ]
  },
  {
   "cell_type": "markdown",
   "metadata": {
    "scrolled": true
   },
   "source": [
    "### Introduction\n",
    "\n",
    "Funnel charts are often used to represent data in different stages of a business process. It’s an important mechanism in Business Intelligence to identify potential problem areas of a process. For example, it’s used to observe the revenue or loss in a sales process for each stage, and displays values that are decreasing progressively. Each stage is illustrated as a percentage of the total of all values."
   ]
  },
  {
   "cell_type": "markdown",
   "metadata": {},
   "source": [
    "### Basic Funnel Plot"
   ]
  },
  {
   "cell_type": "code",
   "execution_count": 2,
   "metadata": {
    "scrolled": true
   },
   "outputs": [
    {
     "data": {
      "text/html": [
       "<iframe id=\"igraph\" scrolling=\"no\" style=\"border:none;\" seamless=\"seamless\" src=\"https://plotly.com/~PythonPlotBot/3401.embed\" height=\"525px\" width=\"100%\"></iframe>"
      ],
      "text/plain": [
       "<chart_studio.tools.PlotlyDisplay object>"
      ]
     },
     "execution_count": 2,
     "metadata": {},
     "output_type": "execute_result"
    }
   ],
   "source": [
    "import plotly.plotly as py\n",
    "from plotly import graph_objs as go \n",
    "\n",
    "\n",
    "trace1 = go.Funnel(\n",
    "    y = [\"Website visit\", \"Downloads\", \"Potential customers\", \"Requested price\", \"invoice sent\"],\n",
    "    x = [39, 27.4, 20.6, 11, 2])\n",
    "\n",
    "layout = go.Layout(\n",
    "    title = \"Annual Sales\",\n",
    "    margin = {\"l\": 200, \"r\": 200})\n",
    "\n",
    "py.iplot(go.Figure([trace1],layout), filename = \"basic_funnel\")\n"
   ]
  },
  {
   "cell_type": "markdown",
   "metadata": {},
   "source": [
    "### Setting Marker Size and Color\n",
    "This example uses [textposition](https://plotly.com/python/reference/#scatter-textposition) and [textinfo](https://plotly.com/python/reference/#funnel-textinfo) to determine information apears on the graph, and shows how to customize the bars."
   ]
  },
  {
   "cell_type": "code",
   "execution_count": 3,
   "metadata": {},
   "outputs": [
    {
     "data": {
      "text/html": [
       "<iframe id=\"igraph\" scrolling=\"no\" style=\"border:none;\" seamless=\"seamless\" src=\"https://plotly.com/~PythonPlotBot/3403.embed\" height=\"525px\" width=\"100%\"></iframe>"
      ],
      "text/plain": [
       "<chart_studio.tools.PlotlyDisplay object>"
      ]
     },
     "execution_count": 3,
     "metadata": {},
     "output_type": "execute_result"
    }
   ],
   "source": [
    "import plotly.plotly as py\n",
    "from plotly import graph_objs as go \n",
    "\n",
    "trace1 = go.Funnel(\n",
    "    y = [\"Website visit\", \"Downloads\", \"Potential customers\", \"Requested price\", \"Finalized\"],\n",
    "    x = [39, 27.4, 20.6, 11, 2],\n",
    "    textposition = \"inside\", \n",
    "    textinfo = \"value+percent initial\", \n",
    "    opacity = 0.65, marker = {\"color\": [\"deepskyblue\", \"lightsalmon\", \"tan\", \"teal\", \"silver\"],\n",
    "    \"line\": {\"width\": [4, 2, 2, 3, 1, 1], \"color\": [\"wheat\", \"wheat\", \"blue\", \"wheat\", \"wheat\"]}},\n",
    "    connector = {\"line\": {\"color\": \"royalblue\", \"dash\": \"dot\", \"width\": 3}})\n",
    "\n",
    "layout = go.Layout(margin = {\"l\": 200, \"r\": 200 })\n",
    "\n",
    "py.iplot(go.Figure([trace1], layout), filename = \"Style_funnel\")"
   ]
  },
  {
   "cell_type": "markdown",
   "metadata": {},
   "source": [
    "### Stack Funnel Plot\n"
   ]
  },
  {
   "cell_type": "code",
   "execution_count": 4,
   "metadata": {},
   "outputs": [
    {
     "data": {
      "text/html": [
       "<iframe id=\"igraph\" scrolling=\"no\" style=\"border:none;\" seamless=\"seamless\" src=\"https://plotly.com/~PythonPlotBot/3405.embed\" height=\"525px\" width=\"100%\"></iframe>"
      ],
      "text/plain": [
       "<chart_studio.tools.PlotlyDisplay object>"
      ]
     },
     "execution_count": 4,
     "metadata": {},
     "output_type": "execute_result"
    }
   ],
   "source": [
    "import plotly.plotly as py\n",
    "from plotly import graph_objs as go\n",
    "\n",
    "trace1 = go.Funnel(\n",
    "    name = 'Montreal',\n",
    "    y = [\"Website visit\", \"Downloads\", \"Potential customers\", \"Requested price\"], \n",
    "    x = [120, 60, 30, 20],\n",
    "    textinfo = \"value+percent initial\")\n",
    "\n",
    "trace2 = go.Funnel(\n",
    "    name = 'Toronto',\n",
    "    orientation = \"h\", \n",
    "    y = [\"Website visit\", \"Downloads\", \"Potential customers\", \"Requested price\", \"invoice sent\"],\n",
    "    x = [100, 60, 40, 30, 20],\n",
    "    textposition = \"inside\",\n",
    "    textinfo = \"value+percent previous\")\n",
    "\n",
    "trace3 = go.Funnel(\n",
    "    name = 'Vancouver',\n",
    "    orientation = \"h\", \n",
    "    y = [\"Website visit\", \"Downloads\", \"Potential customers\", \"Requested price\", \"invoice sent\", \"Finalized\"],\n",
    "    x = [90, 70, 50, 30, 10, 5],\n",
    "    textposition = \"outside\",\n",
    "    textinfo = \"value+percent total\")\n",
    "            \n",
    "layout = go.Layout(margin = {\"l\": 200 , \"r\": 200}, funnelmode = \"stack\", showlegend = True)\n",
    "\n",
    "\n",
    "py.iplot(go.Figure([trace1, trace2, trace3], layout), filename = \"funnel_stack\")\n"
   ]
  },
  {
   "cell_type": "markdown",
   "metadata": {},
   "source": [
    "#### Basic Funnelarea Plot"
   ]
  },
  {
   "cell_type": "code",
   "execution_count": 4,
   "metadata": {},
   "outputs": [
    {
     "data": {
      "text/html": [
       "<iframe id=\"igraph\" scrolling=\"no\" style=\"border:none;\" seamless=\"seamless\" src=\"https://plotly.com/~PythonPlotBot/3411.embed\" height=\"525px\" width=\"100%\"></iframe>"
      ],
      "text/plain": [
       "<chart_studio.tools.PlotlyDisplay object>"
      ]
     },
     "execution_count": 4,
     "metadata": {},
     "output_type": "execute_result"
    }
   ],
   "source": [
    "import plotly.plotly as py\n",
    "from plotly import graph_objs as go\n",
    "\n",
    "trace = go.Funnelarea(values = [5, 4, 3, 2, 1])\n",
    "\n",
    "layout = go.Layout(margin = go.layout.Margin(l= 200, r = 200))\n",
    "\n",
    "py.iplot(go.Figure([trace], layout), filename = \"basic_funnelarea\")"
   ]
  },
  {
   "cell_type": "markdown",
   "metadata": {},
   "source": [
    "#### Set Marker Size and Color in Funnelarea Plot"
   ]
  },
  {
   "cell_type": "code",
   "execution_count": 5,
   "metadata": {},
   "outputs": [
    {
     "data": {
      "text/html": [
       "<iframe id=\"igraph\" scrolling=\"no\" style=\"border:none;\" seamless=\"seamless\" src=\"https://plotly.com/~PythonPlotBot/3413.embed\" height=\"525px\" width=\"100%\"></iframe>"
      ],
      "text/plain": [
       "<chart_studio.tools.PlotlyDisplay object>"
      ]
     },
     "execution_count": 5,
     "metadata": {},
     "output_type": "execute_result"
    }
   ],
   "source": [
    "import plotly.plotly as py\n",
    "from plotly import graph_objs as go\n",
    "\n",
    "trace = go.Funnelarea(\n",
    "      values = [5, 4, 3, 2, 1], text = [\"The 1st\",\"The 2nd\", \"The 3rd\", \"The 4th\", \"The 5th\"],\n",
    "      marker = {\"colors\": [\"deepskyblue\", \"lightsalmon\", \"tan\", \"teal\", \"silver\"], \n",
    "                \"line\": {\"color\": [\"wheat\", \"wheat\", \"blue\", \"wheat\", \"wheat\"], \"width\": [0, 1, 5, 0, 4]}},\n",
    "      textfont = {\"family\": \"Old Standard TT, serif\", \"size\": 13, \"color\": \"black\"}, opacity = 0.65)\n",
    "\n",
    "layout = go.Layout(margin = {\"l\": 200, \"r\": 200})\n",
    "\n",
    "py.iplot(go.Figure([trace], layout), filename = \"stylefunnelarea\")"
   ]
  },
  {
   "cell_type": "markdown",
   "metadata": {},
   "source": [
    "#### Multi Funnel\n"
   ]
  },
  {
   "cell_type": "code",
   "execution_count": 7,
   "metadata": {},
   "outputs": [
    {
     "data": {
      "text/html": [
       "<iframe id=\"igraph\" scrolling=\"no\" style=\"border:none;\" seamless=\"seamless\" src=\"https://plotly.com/~PythonPlotBot/3409.embed\" height=\"525px\" width=\"100%\"></iframe>"
      ],
      "text/plain": [
       "<chart_studio.tools.PlotlyDisplay object>"
      ]
     },
     "execution_count": 7,
     "metadata": {},
     "output_type": "execute_result"
    }
   ],
   "source": [
    "import plotly.plotly as py\n",
    "from plotly import graph_objs as go\n",
    "\n",
    "trace1 = go.Funnelarea(\n",
    "    scalegroup = \"first\", values = [500, 450, 340, 230, 220, 110], textinfo = \"value\",\n",
    "    title = {\"position\": \"top center\", \"text\": \"Sales for Sale Person A in U.S.\"}, \n",
    "    domain = {\"x\": [0, 0.5], \"y\": [0, 0.5]})\n",
    "\n",
    "trace2 = go.Funnelarea(\n",
    "    scalegroup = \"first\", values = [600, 500, 400, 300, 200, 100], textinfo = \"value\",\n",
    "    title = {\"position\": \"top center\", \"text\": \"Sales of Sale Person B in Canada\"},\n",
    "    domain = {\"x\": [0, 0.5], \"y\": [0.55, 1]})\n",
    "\n",
    "trace3 = go.Funnelarea(\n",
    "    scalegroup = \"second\", values = [510, 480, 440, 330, 220, 100], textinfo = \"value\", \n",
    "    title = {\"position\": \"top left\", \"text\": \"Sales of Sale Person A in Canada\"},\n",
    "    domain = {\"x\": [0.55, 1], \"y\": [0, 0.5]})\n",
    "\n",
    "trace4 = go.Funnelarea(\n",
    "            scalegroup = \"second\", values = [360, 250, 240, 130, 120, 60],\n",
    "            textinfo = \"value\", title = {\"position\": \"top left\", \"text\": \"Sales of Sale Person B in U.S.\"},\n",
    "            domain = {\"x\": [0.55, 1], \"y\": [0.55, 1]})\n",
    "\n",
    "layout = go.Layout(\n",
    "            margin = {\"l\": 200, \"r\": 200}, shapes = [\n",
    "            {\"x0\": 0, \"x1\": 0.5, \"y0\": 0, \"y1\": 0.5},\n",
    "            {\"x0\": 0, \"x1\": 0.5, \"y0\": 0.55, \"y1\": 1},\n",
    "            {\"x0\": 0.55, \"x1\": 1, \"y0\": 0, \"y1\": 0.5},\n",
    "            {\"x0\": 0.55, \"x1\": 1, \"y0\": 0.55, \"y1\": 1}])\n",
    "\n",
    "py.iplot(go.Figure([trace1, trace2, trace3, trace4], layout), filename = \"scale_group\")"
   ]
  },
  {
   "cell_type": "markdown",
   "metadata": {},
   "source": [
    "#### Reference\n",
    "See https://plotly.com/python/reference/#funnel for more information and chart attribute options!"
   ]
  },
  {
   "cell_type": "code",
   "execution_count": 2,
   "metadata": {},
   "outputs": [
    {
     "data": {
      "text/html": [
       "<link href=\"//fonts.googleapis.com/css?family=Open+Sans:600,400,300,200|Inconsolata|Ubuntu+Mono:400,700\" rel=\"stylesheet\" type=\"text/css\" />"
      ],
      "text/plain": [
       "<IPython.core.display.HTML object>"
      ]
     },
     "metadata": {},
     "output_type": "display_data"
    },
    {
     "data": {
      "text/html": [
       "<link rel=\"stylesheet\" type=\"text/css\" href=\"http://help.plot.ly/documentation/all_static/css/ipython-notebook-custom.css\">"
      ],
      "text/plain": [
       "<IPython.core.display.HTML object>"
      ]
     },
     "metadata": {},
     "output_type": "display_data"
    },
    {
     "name": "stdout",
     "output_type": "stream",
     "text": [
      "Collecting git+https://github.com/plotly/publisher.git\n",
      "  Cloning https://github.com/plotly/publisher.git to /tmp/pip-8ahvmao_-build\n",
      "Installing collected packages: publisher\n",
      "  Found existing installation: publisher 0.13\n",
      "    Uninstalling publisher-0.13:\n",
      "      Successfully uninstalled publisher-0.13\n",
      "  Running setup.py install for publisher ... \u001b[?25ldone\n",
      "\u001b[?25hSuccessfully installed publisher-0.13\n"
     ]
    }
   ],
   "source": [
    "from IPython.display import display, HTML\n",
    "\n",
    "display(HTML('<link href=\"//fonts.googleapis.com/css?family=Open+Sans:600,400,300,200|Inconsolata|Ubuntu+Mono:400,700\" rel=\"stylesheet\" type=\"text/css\" />'))\n",
    "display(HTML('<link rel=\"stylesheet\" type=\"text/css\" href=\"http://help.plot.ly/documentation/all_static/css/ipython-notebook-custom.css\">'))\n",
    "\n",
    "! pip3 install git+https://github.com/plotly/publisher.git --upgrade\n",
    "import publisher\n",
    "publisher.publish(\n",
    "    'funnel-chart.ipynb', 'python/funnel-charts/', 'Funnel Chart',\n",
    "    'How to make funnel-chart plots in Python with Plotly.',\n",
    "    title = 'Python Funnel Chart | Plotly',\n",
    "    has_thumbnail='true', thumbnail='thumbnail/funnel.jpg',\n",
    "    language='python',\n",
    "    # page_type='example_index', // note this is only if you want the tutorial to appear on the main page: plot.ly/python\n",
    "    display_as='basic', order=6.3, ipynb='~notebook_demo/293',\n",
    "    uses_plotly_offline=False)"
   ]
  },
  {
   "cell_type": "code",
   "execution_count": null,
   "metadata": {},
   "outputs": [],
   "source": []
  }
 ],
 "metadata": {
  "kernelspec": {
   "display_name": "Python 3",
   "language": "python",
   "name": "python3"
  },
  "language_info": {
   "codemirror_mode": {
    "name": "ipython",
    "version": 3
   },
   "file_extension": ".py",
   "mimetype": "text/x-python",
   "name": "python",
   "nbconvert_exporter": "python",
   "pygments_lexer": "ipython3",
   "version": "3.6.8"
  }
 },
 "nbformat": 4,
 "nbformat_minor": 2
}

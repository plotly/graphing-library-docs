{
 "cells": [
  {
   "cell_type": "markdown",
   "metadata": {
    "collapsed": true
   },
   "source": [
    "#### New to Plotly?\n",
    "Plotly's Python library is free and open source! [Get started](https://plotly.com/python/getting-started/) by downloading the client and [reading the primer](https://plotly.com/python/getting-started/).\n",
    "<br>You can set up Plotly to work in [online](https://plotly.com/python/getting-started/#initialization-for-online-plotting) or [offline](https://plotly.com/python/getting-started/#initialization-for-offline-plotting) mode, or in [jupyter notebooks](https://plotly.com/python/getting-started/#start-plotting-online).\n",
    "<br>We also have a quick-reference [cheatsheet](https://images.plot.ly/plotly-documentation/images/python_cheat_sheet.pdf) (new!) to help you get started!"
   ]
  },
  {
   "cell_type": "markdown",
   "metadata": {},
   "source": [
    "#### Version Check\n",
    "Plotly's python package is updated frequently. Run `pip install plotly --upgrade` to use the latest version."
   ]
  },
  {
   "cell_type": "code",
   "execution_count": 1,
   "metadata": {},
   "outputs": [
    {
     "data": {
      "text/plain": [
       "'2.7.0'"
      ]
     },
     "execution_count": 1,
     "metadata": {},
     "output_type": "execute_result"
    }
   ],
   "source": [
    "import plotly\n",
    "plotly.__version__"
   ]
  },
  {
   "cell_type": "markdown",
   "metadata": {},
   "source": [
    "#### Splom trace\n",
    "A scaterplot matrix is a matrix associated to n numerical arrays (data variables),  $X_1,X_2,…,X_n$ , of the same length. The cell (i,j) of such a matrix displays the scater plot of the variable  Xi  versus  Xj ,\n",
    "\n",
    "The Plotly splom trace implementation for the scaterplot matrix does not require to set  $x=Xi$ , and  $y=Xj$, for each scatter plot. All arrays, $X_1,X_2,…,X_n$ , are passed once, through a list of dicts called dimensions, i.e. each array/variable represents a dimension.\n",
    "\n",
    "A trace of type `splom` is defined as follows:\n",
    "\n",
    "```\n",
    "trace=go.Splom(dimensions=[dict(label='string-1',\n",
    "                                values=X1),\n",
    "                           dict(label='string-2',\n",
    "                                values=X2),\n",
    "                           .\n",
    "                           .\n",
    "                           .\n",
    "                           dict(label='string-n',\n",
    "                                values=Xn)],\n",
    "                           text=text,\n",
    "                           marker=dict(...)\n",
    "               )\n",
    "```\n",
    "\n",
    "The label in each dimension is assigned to the axes titles of the corresponding matrix cell.\n",
    "\n",
    "text is either a unique string assigned to all points displayed by splom or a list of strings of the same length as the dimensions,  $X_i$. The `text[k]` is the tooltip for the $k^{th}$  point in each cell.\n",
    "\n",
    "marker sets the markers attributes in all scatter plots."
   ]
  },
  {
   "cell_type": "markdown",
   "metadata": {},
   "source": [
    "#### Splom of the Iris data set"
   ]
  },
  {
   "cell_type": "code",
   "execution_count": 1,
   "metadata": {},
   "outputs": [
    {
     "data": {
      "text/html": [
       "<iframe id=\"igraph\" scrolling=\"no\" style=\"border:none;\" seamless=\"seamless\" src=\"https://plotly.com/~jordanpeterson/157.embed\" height=\"230px\" width=\"100%\"></iframe>"
      ],
      "text/plain": [
       "<plotly.tools.PlotlyDisplay object>"
      ]
     },
     "execution_count": 1,
     "metadata": {},
     "output_type": "execute_result"
    }
   ],
   "source": [
    "import plotly.graph_objs as go\n",
    "import plotly.plotly as py\n",
    "import plotly.tools as tls\n",
    "import plotly.figure_factory as ff\n",
    "\n",
    "import copy\n",
    "import numpy as np\n",
    "import pandas as pd\n",
    "\n",
    "df = pd.read_csv('https://raw.githubusercontent.com/plotly/datasets/master/iris-data.csv')\n",
    "\n",
    "df_table = ff.create_table(df.head())\n",
    "py.iplot(df_table, filename='iris-data-head')"
   ]
  },
  {
   "cell_type": "markdown",
   "metadata": {},
   "source": [
    "The Iris dataset contains four data variables,  sepal length, sepal width, petal length petal width, for 150 iris flowers. The flowers are labeled as `Iris-setosa`, `Iris-versicolor`, `Iris-virginica`.\n",
    "\n",
    "Extract out the flower class:"
   ]
  },
  {
   "cell_type": "code",
   "execution_count": 2,
   "metadata": {},
   "outputs": [
    {
     "data": {
      "text/plain": [
       "['Iris-setosa', 'Iris-versicolor', 'Iris-virginica']"
      ]
     },
     "execution_count": 2,
     "metadata": {},
     "output_type": "execute_result"
    }
   ],
   "source": [
    "classes=np.unique(df['class'].values).tolist()\n",
    "classes"
   ]
  },
  {
   "cell_type": "markdown",
   "metadata": {},
   "source": [
    "Encode the three classes by 0, 1, 2:"
   ]
  },
  {
   "cell_type": "code",
   "execution_count": 3,
   "metadata": {},
   "outputs": [
    {
     "data": {
      "text/plain": [
       "{'Iris-setosa': 0, 'Iris-versicolor': 1, 'Iris-virginica': 2}"
      ]
     },
     "execution_count": 3,
     "metadata": {},
     "output_type": "execute_result"
    }
   ],
   "source": [
    "class_code={classes[k]: k for k in range(3)}\n",
    "class_code"
   ]
  },
  {
   "cell_type": "markdown",
   "metadata": {},
   "source": [
    "The splom associated to the four data variables is intended to illustrate the patterns of the relationship between pairs of variables for each class.\n",
    "\n",
    "The points displayed in splom are colored according to their class:"
   ]
  },
  {
   "cell_type": "code",
   "execution_count": 4,
   "metadata": {
    "collapsed": true
   },
   "outputs": [],
   "source": [
    "color_vals=[class_code[cl] for cl in df['class']]"
   ]
  },
  {
   "cell_type": "markdown",
   "metadata": {},
   "source": [
    "Define a discrete colorscale with three colors corresponding to the three flower classes:"
   ]
  },
  {
   "cell_type": "code",
   "execution_count": 5,
   "metadata": {
    "collapsed": true
   },
   "outputs": [],
   "source": [
    "pl_colorscale=[[0.0, '#19d3f3'],\n",
    "               [0.333, '#19d3f3'],\n",
    "               [0.333, '#e763fa'],\n",
    "               [0.666, '#e763fa'],\n",
    "               [0.666, '#636efa'],\n",
    "               [1, '#636efa']]"
   ]
  },
  {
   "cell_type": "markdown",
   "metadata": {},
   "source": [
    "On hover over a particular point in a splom cell is displayed the corresponding iris class:"
   ]
  },
  {
   "cell_type": "code",
   "execution_count": 6,
   "metadata": {
    "collapsed": true
   },
   "outputs": [],
   "source": [
    "text=[df.loc[ k, 'class'] for k in range(len(df))]"
   ]
  },
  {
   "cell_type": "code",
   "execution_count": 7,
   "metadata": {
    "collapsed": true
   },
   "outputs": [],
   "source": [
    "trace1 = go.Splom(dimensions=[dict(label='sepal length',\n",
    "                                 values=df['sepal length']),\n",
    "                            dict(label='sepal width',\n",
    "                                 values=df['sepal width']),\n",
    "                            dict(label='petal length',\n",
    "                                 values=df['petal length']),\n",
    "                            dict(label='petal width',\n",
    "                                 values=df['petal width'])],\n",
    "                text=text,\n",
    "                #default axes name assignment :\n",
    "                #xaxes= ['x1','x2',  'x3'],\n",
    "                #yaxes=  ['y1', 'y2', 'y3'], \n",
    "                marker=dict(color=color_vals,\n",
    "                            size=7,\n",
    "                            colorscale=pl_colorscale,\n",
    "                            showscale=False,\n",
    "                            line=dict(width=0.5,\n",
    "                                      color='rgb(230,230,230)'))\n",
    "                )"
   ]
  },
  {
   "cell_type": "code",
   "execution_count": 8,
   "metadata": {},
   "outputs": [
    {
     "data": {
      "text/html": [
       "<iframe id=\"igraph\" scrolling=\"no\" style=\"border:none;\" seamless=\"seamless\" src=\"https://plotly.com/~jordanpeterson/145.embed\" height=\"600px\" width=\"600px\"></iframe>"
      ],
      "text/plain": [
       "<plotly.tools.PlotlyDisplay object>"
      ]
     },
     "execution_count": 8,
     "metadata": {},
     "output_type": "execute_result"
    }
   ],
   "source": [
    "axis = dict(showline=True,\n",
    "          zeroline=False,\n",
    "          gridcolor='#fff',\n",
    "          ticklen=4)\n",
    "\n",
    "layout = go.Layout(\n",
    "    title='Iris Data set',\n",
    "    dragmode='select',\n",
    "    width=600,\n",
    "    height=600,\n",
    "    autosize=False,\n",
    "    hovermode='closest',\n",
    "    plot_bgcolor='rgba(240,240,240, 0.95)',\n",
    "    xaxis1=dict(axis),\n",
    "    xaxis2=dict(axis),\n",
    "    xaxis3=dict(axis),\n",
    "    xaxis4=dict(axis),\n",
    "    yaxis1=dict(axis),\n",
    "    yaxis2=dict(axis),\n",
    "    yaxis3=dict(axis),\n",
    "    yaxis4=dict(axis)\n",
    ")\n",
    "\n",
    "fig1 = dict(data=[trace1], layout=layout)\n",
    "py.iplot(fig1, filename='splom-iris1')"
   ]
  },
  {
   "cell_type": "markdown",
   "metadata": {},
   "source": [
    "The scatter plots on the principal diagonal can be removed by setting diagonal=dict(visible=False):"
   ]
  },
  {
   "cell_type": "code",
   "execution_count": 9,
   "metadata": {},
   "outputs": [
    {
     "data": {
      "text/html": [
       "<iframe id=\"igraph\" scrolling=\"no\" style=\"border:none;\" seamless=\"seamless\" src=\"https://plotly.com/~jordanpeterson/147.embed\" height=\"600px\" width=\"600px\"></iframe>"
      ],
      "text/plain": [
       "<plotly.tools.PlotlyDisplay object>"
      ]
     },
     "execution_count": 9,
     "metadata": {},
     "output_type": "execute_result"
    }
   ],
   "source": [
    "trace2 = copy.copy(trace1)\n",
    "trace2['diagonal'].update(visible=False)\n",
    "fig2 = dict(data=[trace2], layout=layout)\n",
    "py.iplot(fig2, filename='splom-invisible-diagonal')"
   ]
  },
  {
   "cell_type": "markdown",
   "metadata": {},
   "source": [
    "To plot only the lower/upper half of the splom we switch the default showlowerhalf=True/showupperhalf=True to False:"
   ]
  },
  {
   "cell_type": "code",
   "execution_count": 10,
   "metadata": {},
   "outputs": [
    {
     "data": {
      "text/html": [
       "<iframe id=\"igraph\" scrolling=\"no\" style=\"border:none;\" seamless=\"seamless\" src=\"https://plotly.com/~jordanpeterson/149.embed\" height=\"600px\" width=\"600px\"></iframe>"
      ],
      "text/plain": [
       "<plotly.tools.PlotlyDisplay object>"
      ]
     },
     "execution_count": 10,
     "metadata": {},
     "output_type": "execute_result"
    }
   ],
   "source": [
    "trace3 = copy.deepcopy(trace1)\n",
    "trace3['showupperhalf']=False\n",
    "\n",
    "fig3 = dict(data=[trace3], layout=layout)\n",
    "py.iplot(fig3, filename='splom-showupperhalf')"
   ]
  },
  {
   "cell_type": "markdown",
   "metadata": {},
   "source": [
    "Each dict in the list dimensions has a key, visible, set by default on True. We can choose to remove a variable from splom, by setting `visible=False` in its corresponding dimension. In this case the default grid associated to the scatterplot matrix keeps its number of cells, but the cells in the row and column corresponding to the visible false dimension are empty:"
   ]
  },
  {
   "cell_type": "code",
   "execution_count": 11,
   "metadata": {},
   "outputs": [
    {
     "data": {
      "text/html": [
       "<iframe id=\"igraph\" scrolling=\"no\" style=\"border:none;\" seamless=\"seamless\" src=\"https://plotly.com/~jordanpeterson/151.embed\" height=\"600px\" width=\"600px\"></iframe>"
      ],
      "text/plain": [
       "<plotly.tools.PlotlyDisplay object>"
      ]
     },
     "execution_count": 11,
     "metadata": {},
     "output_type": "execute_result"
    }
   ],
   "source": [
    "trace4 = copy.deepcopy(trace1)\n",
    "trace4['dimensions'][2].update(visible=False)\n",
    "fig4 = dict(data=[trace4], layout=layout)\n",
    "py.iplot(fig4, filename='splom-invisible-custom-dimensions')"
   ]
  },
  {
   "cell_type": "markdown",
   "metadata": {},
   "source": [
    "#### Splom for the diabetes dataset\n",
    "\n",
    "Diabetes dataset is downloaded from [kaggle](https://www.kaggle.com/uciml/pima-indians-diabetes-database/data). It is used to predict the onset of diabetes based on 8 diagnostic measures."
   ]
  },
  {
   "cell_type": "code",
   "execution_count": 12,
   "metadata": {},
   "outputs": [
    {
     "data": {
      "text/html": [
       "<iframe id=\"igraph\" scrolling=\"no\" style=\"border:none;\" seamless=\"seamless\" src=\"https://plotly.com/~jordanpeterson/159.embed\" height=\"230px\" width=\"100%\"></iframe>"
      ],
      "text/plain": [
       "<plotly.tools.PlotlyDisplay object>"
      ]
     },
     "execution_count": 12,
     "metadata": {},
     "output_type": "execute_result"
    }
   ],
   "source": [
    "dfd = pd.read_csv('https://raw.githubusercontent.com/plotly/datasets/master/diabetes.csv')\n",
    "\n",
    "df_table = ff.create_table(dfd.head())\n",
    "py.iplot(df_table, filename='diabetes-head')"
   ]
  },
  {
   "cell_type": "markdown",
   "metadata": {},
   "source": [
    "The diabetes file contains the diagnostic measures for 768 patients, that are labeled as non-diabetic (Outcome=0), respectively diabetic (Outcome=1). The splom associated to the 8 variables can illustrate the strength of the relationship between pairs of measures for diabetic/nondiabetic patients."
   ]
  },
  {
   "cell_type": "code",
   "execution_count": 13,
   "metadata": {
    "collapsed": true
   },
   "outputs": [],
   "source": [
    "textd = ['non-diabetic' if cl==0 else 'diabetic' for cl in dfd['Outcome']]\n",
    "color_vals = [0  if cl==0 else 1 for cl in dfd['Outcome']]"
   ]
  },
  {
   "cell_type": "markdown",
   "metadata": {},
   "source": [
    "We define again a discrete colorscale with two colors: blue for non-diabetics and red for diabetics:"
   ]
  },
  {
   "cell_type": "code",
   "execution_count": 14,
   "metadata": {
    "collapsed": true
   },
   "outputs": [],
   "source": [
    "pl_colorscaled = [[0., '#119dff'],\n",
    "                 [0.5, '#119dff'],\n",
    "                 [0.5, '#ef553b'],\n",
    "                 [1, '#ef553b']]"
   ]
  },
  {
   "cell_type": "code",
   "execution_count": 15,
   "metadata": {
    "collapsed": true
   },
   "outputs": [],
   "source": [
    "traced = go.Splom(dimensions=[dict(label='Pregnancies', values=dfd['Pregnancies']),\n",
    "                              dict(label='Glucose', values=dfd['Glucose']),\n",
    "                              dict(label='BloodPressure', values=dfd['BloodPressure']),\n",
    "                              dict(label='SkinThickness', values=dfd['SkinThickness']),\n",
    "                              dict(label='Insulin', values=dfd['Insulin']),\n",
    "                              dict(label='BMI', values=dfd['BMI']),\n",
    "                              dict(label='DiabPedigreeFun', values=dfd['DiabetesPedigreeFunction']),\n",
    "                              dict(label='Age', values=dfd['Age'])],\n",
    "                  marker=dict(color=color_vals,\n",
    "                              size=5,\n",
    "                              colorscale=pl_colorscaled,\n",
    "                              line=dict(width=0.5,\n",
    "                                        color='rgb(230,230,230)') ),\n",
    "                  text=textd,\n",
    "                  diagonal=dict(visible=False))"
   ]
  },
  {
   "cell_type": "code",
   "execution_count": 16,
   "metadata": {},
   "outputs": [
    {
     "data": {
      "text/html": [
       "<iframe id=\"igraph\" scrolling=\"no\" style=\"border:none;\" seamless=\"seamless\" src=\"https://plotly.com/~jordanpeterson/153.embed\" height=\"1000px\" width=\"1000px\"></iframe>"
      ],
      "text/plain": [
       "<plotly.tools.PlotlyDisplay object>"
      ]
     },
     "execution_count": 16,
     "metadata": {},
     "output_type": "execute_result"
    }
   ],
   "source": [
    "axisd = dict(showline=False,\n",
    "           zeroline=False,\n",
    "           gridcolor='#fff',\n",
    "           ticklen=4,\n",
    "           titlefont=dict(size=13))\n",
    "title = \"Scatterplot Matrix (SPLOM) for Diabetes Dataset<br>Data source:\"+\\\n",
    "        \" <a href='https://www.kaggle.com/uciml/pima-indians-diabetes-database/data'>[1]</a>\"\n",
    "\n",
    "layout = go.Layout(title=title,\n",
    "                   dragmode='select',\n",
    "                   width=1000,\n",
    "                   height=1000,\n",
    "                   autosize=False,\n",
    "                   hovermode='closest',\n",
    "                   plot_bgcolor='rgba(240,240,240, 0.95)',\n",
    "                   xaxis1=dict(axisd),\n",
    "                   xaxis2=dict(axisd),\n",
    "                   xaxis3=dict(axisd),\n",
    "                   xaxis4=dict(axisd),\n",
    "                   xaxis5=dict(axisd),\n",
    "                   xaxis6=dict(axisd),\n",
    "                   xaxis7=dict(axisd),\n",
    "                   xaxis8=dict(axisd),\n",
    "                   yaxis1=dict(axisd),\n",
    "                   yaxis2=dict(axisd),\n",
    "                   yaxis3=dict(axisd),\n",
    "                   yaxis4=dict(axisd),\n",
    "                   yaxis5=dict(axisd),\n",
    "                   yaxis6=dict(axisd),\n",
    "                   yaxis7=dict(axisd),\n",
    "                   yaxis8=dict(axisd))\n",
    "\n",
    "fig = dict(data=[traced], layout=layout)\n",
    "py.iplot(fig, filename='large')"
   ]
  },
  {
   "cell_type": "code",
   "execution_count": 17,
   "metadata": {},
   "outputs": [
    {
     "data": {
      "text/html": [
       "<link href=\"//fonts.googleapis.com/css?family=Open+Sans:600,400,300,200|Inconsolata|Ubuntu+Mono:400,700\" rel=\"stylesheet\" type=\"text/css\" />"
      ],
      "text/plain": [
       "<IPython.core.display.HTML object>"
      ]
     },
     "metadata": {},
     "output_type": "display_data"
    },
    {
     "data": {
      "text/html": [
       "<link rel=\"stylesheet\" type=\"text/css\" href=\"http://help.plot.ly/documentation/all_static/css/ipython-notebook-custom.css\">"
      ],
      "text/plain": [
       "<IPython.core.display.HTML object>"
      ]
     },
     "metadata": {},
     "output_type": "display_data"
    },
    {
     "name": "stdout",
     "output_type": "stream",
     "text": [
      "Collecting git+https://github.com/plotly/publisher.git\n",
      "  Cloning https://github.com/plotly/publisher.git to /private/var/folders/tc/bs9g6vrd36q74m5t8h9cgphh0000gn/T/pip-req-build-c97H0N\n",
      "Building wheels for collected packages: publisher\n",
      "  Running setup.py bdist_wheel for publisher ... \u001b[?25ldone\n",
      "\u001b[?25h  Stored in directory: /private/var/folders/tc/bs9g6vrd36q74m5t8h9cgphh0000gn/T/pip-ephem-wheel-cache-8zdQdi/wheels/99/3e/a0/fbd22ba24cca72bdbaba53dbc23c1768755fb17b3af0f33966\n",
      "Successfully built publisher\n",
      "Installing collected packages: publisher\n",
      "  Found existing installation: publisher 0.11\n",
      "    Uninstalling publisher-0.11:\n",
      "      Successfully uninstalled publisher-0.11\n",
      "Successfully installed publisher-0.11\n"
     ]
    },
    {
     "name": "stderr",
     "output_type": "stream",
     "text": [
      "/Library/Frameworks/Python.framework/Versions/2.7/lib/python2.7/site-packages/IPython/nbconvert.py:13: ShimWarning:\n",
      "\n",
      "The `IPython.nbconvert` package has been deprecated since IPython 4.0. You should import from nbconvert instead.\n",
      "\n",
      "/Library/Frameworks/Python.framework/Versions/2.7/lib/python2.7/site-packages/publisher/publisher.py:53: UserWarning:\n",
      "\n",
      "Did you \"Save\" this notebook before running this command? Remember to save, always save.\n",
      "\n"
     ]
    }
   ],
   "source": [
    "from IPython.display import display, HTML\n",
    "\n",
    "display(HTML('<link href=\"//fonts.googleapis.com/css?family=Open+Sans:600,400,300,200|Inconsolata|Ubuntu+Mono:400,700\" rel=\"stylesheet\" type=\"text/css\" />'))\n",
    "display(HTML('<link rel=\"stylesheet\" type=\"text/css\" href=\"http://help.plot.ly/documentation/all_static/css/ipython-notebook-custom.css\">'))\n",
    "\n",
    "! pip install git+https://github.com/plotly/publisher.git --upgrade\n",
    "import publisher\n",
    "publisher.publish(\n",
    "    'splom.ipynb', 'python/splom/', 'Scatterplot Matrix',\n",
    "    'How to make scatterplot matrices or sploms natively in Python with Plotly.',\n",
    "    title = 'Python Scatterplot Matrix | Plotly',\n",
    "    has_thumbnail='true', thumbnail='thumbnail/splom_image.jpg',\n",
    "    redirect_from ='python/scatterplot-matrix/',\n",
    "    language='python',\n",
    "    display_as='statistical', order=10.2,\n",
    "    uses_plotly_offline=False)"
   ]
  },
  {
   "cell_type": "code",
   "execution_count": null,
   "metadata": {
    "collapsed": true
   },
   "outputs": [],
   "source": []
  }
 ],
 "metadata": {
  "kernelspec": {
   "display_name": "Python 2",
   "language": "python",
   "name": "python2"
  },
  "language_info": {
   "codemirror_mode": {
    "name": "ipython",
    "version": 2
   },
   "file_extension": ".py",
   "mimetype": "text/x-python",
   "name": "python",
   "nbconvert_exporter": "python",
   "pygments_lexer": "ipython2",
   "version": "2.7.12"
  }
 },
 "nbformat": 4,
 "nbformat_minor": 2
}

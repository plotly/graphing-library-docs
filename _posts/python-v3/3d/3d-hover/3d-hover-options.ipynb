{
 "cells": [
  {
   "cell_type": "markdown",
   "metadata": {},
   "source": [
    "#### New to Plotly?\n",
    "Plotly's Python library is free and open source! [Get started](https://plotly.com/python/getting-started/) by downloading the client and [reading the primer](https://plotly.com/python/getting-started/).\n",
    "<br>You can set up Plotly to work in [online](https://plotly.com/python/getting-started/#initialization-for-online-plotting) or [offline](https://plotly.com/python/getting-started/#initialization-for-offline-plotting) mode, or in [jupyter notebooks](https://plotly.com/python/getting-started/#start-plotting-online).\n",
    "<br>We also have a quick-reference [cheatsheet](https://images.plot.ly/plotly-documentation/images/python_cheat_sheet.pdf) (new!) to help you get started!"
   ]
  },
  {
   "cell_type": "code",
   "execution_count": 1,
   "metadata": {
    "collapsed": true
   },
   "outputs": [],
   "source": [
    "import plotly.plotly as py\n",
    "import plotly.graph_objs as go\n",
    "\n",
    "import pandas as pd"
   ]
  },
  {
   "cell_type": "markdown",
   "metadata": {},
   "source": [
    "#### Customize Hover for Spikelines\n",
    "\n",
    "By default, Plotly's 3D plots display lines called \"spikelines\" while hovering over a point.\n",
    "These lines project from the hover point to each of the three axes' normal planes and\n",
    "then extend from those projection data points to the planes' wall boundaries."
   ]
  },
  {
   "cell_type": "code",
   "execution_count": 2,
   "metadata": {},
   "outputs": [
    {
     "data": {
      "text/html": [
       "<iframe id=\"igraph\" scrolling=\"no\" style=\"border:none;\" seamless=\"seamless\" src=\"https://plotly.com/~PythonPlotBot/2829.embed\" height=\"525px\" width=\"100%\"></iframe>"
      ],
      "text/plain": [
       "<plotly.tools.PlotlyDisplay object>"
      ]
     },
     "execution_count": 2,
     "metadata": {},
     "output_type": "execute_result"
    }
   ],
   "source": [
    "import plotly.plotly as py\n",
    "import plotly.graph_objs as go\n",
    "\n",
    "import numpy as np\n",
    "\n",
    "data = [go.Scatter3d(\n",
    "    x=np.random.randn(50),\n",
    "    y=np.random.randn(50),\n",
    "    z=np.random.randn(50),\n",
    ")]\n",
    "\n",
    "layout = go.Layout(\n",
    "    scene=go.layout.Scene(\n",
    "        xaxis=go.layout.scene.XAxis(\n",
    "            spikecolor='#1fe5bd',\n",
    "            spikesides=False,\n",
    "            spikethickness=6,\n",
    "        ),\n",
    "        yaxis=go.layout.scene.YAxis(\n",
    "            spikecolor='#1fe5bd',\n",
    "            spikesides=False,\n",
    "            spikethickness=6,\n",
    "        ),\n",
    "        zaxis=go.layout.scene.ZAxis(\n",
    "            spikecolor='#1fe5bd',\n",
    "            spikethickness=6,\n",
    "        ),\n",
    "    )\n",
    ")\n",
    "\n",
    "fig = go.Figure(data=data, layout=layout)\n",
    "py.iplot(fig, filename='hover-spikelines')"
   ]
  },
  {
   "cell_type": "markdown",
   "metadata": {},
   "source": [
    "#### Customize Hover for Surface Contours\n",
    "\n",
    "In addition to spikelines, Plotly 3D Surface plots also display surface contours on hover by default.\n",
    "These are customized by styling the [`contours`](https://plotly.com/python/reference/#surface-contours)\n",
    "attribute in the surface trace."
   ]
  },
  {
   "cell_type": "code",
   "execution_count": 3,
   "metadata": {},
   "outputs": [
    {
     "data": {
      "text/html": [
       "<iframe id=\"igraph\" scrolling=\"no\" style=\"border:none;\" seamless=\"seamless\" src=\"https://plotly.com/~PythonPlotBot/2831.embed\" height=\"525px\" width=\"100%\"></iframe>"
      ],
      "text/plain": [
       "<plotly.tools.PlotlyDisplay object>"
      ]
     },
     "execution_count": 3,
     "metadata": {},
     "output_type": "execute_result"
    }
   ],
   "source": [
    "import plotly.plotly as py\n",
    "import plotly.graph_objs as go\n",
    "\n",
    "x = [10,20,30,40]\n",
    "y = [0,1,2,3]\n",
    "z = [[2,2,2,3],\n",
    "     [1,1,1,1],\n",
    "     [1,1,0,0],\n",
    "     [0,0,0,0]]\n",
    "\n",
    "data = [go.Surface(\n",
    "    opacity=0.9,\n",
    "    x=x,\n",
    "    y=y,\n",
    "    z=z,\n",
    "    contours=go.surface.Contours(\n",
    "        x=go.surface.contours.X(\n",
    "            highlight=True,\n",
    "            highlightcolor=\"#41a7b3\",\n",
    "        ),\n",
    "        y=go.surface.contours.Y(highlight=False),\n",
    "        z=go.surface.contours.Z(highlight=False),\n",
    "    )\n",
    ")]\n",
    "\n",
    "layout = go.Layout(\n",
    "    scene=go.layout.Scene(\n",
    "        xaxis = go.layout.scene.XAxis(showspikes=False),\n",
    "        yaxis = go.layout.scene.YAxis(showspikes=False),\n",
    "        zaxis = go.layout.scene.ZAxis(showspikes=False),\n",
    "    )\n",
    ")\n",
    "\n",
    "fig = go.Figure(data=data, layout=layout)\n",
    "py.iplot(fig, filename='hover-surface-contours')"
   ]
  },
  {
   "cell_type": "markdown",
   "metadata": {},
   "source": [
    "#### Reference"
   ]
  },
  {
   "cell_type": "markdown",
   "metadata": {},
   "source": [
    "See [https://plotly.com/python/reference/#layout-scene](https://plotly.com/python/reference/#layout-scene) and [https://plotly.com/python/reference/#surface-contours](https://plotly.com/python/reference/#surface-contours) for more information and options!"
   ]
  },
  {
   "cell_type": "code",
   "execution_count": 1,
   "metadata": {},
   "outputs": [
    {
     "data": {
      "text/html": [
       "<link href=\"//fonts.googleapis.com/css?family=Open+Sans:600,400,300,200|Inconsolata|Ubuntu+Mono:400,700\" rel=\"stylesheet\" type=\"text/css\" />"
      ],
      "text/plain": [
       "<IPython.core.display.HTML object>"
      ]
     },
     "metadata": {},
     "output_type": "execute_result"
    },
    {
     "data": {
      "text/html": [
       "<link rel=\"stylesheet\" type=\"text/css\" href=\"http://help.plot.ly/documentation/all_static/css/ipython-notebook-custom.css\">"
      ],
      "text/plain": [
       "<IPython.core.display.HTML object>"
      ]
     },
     "metadata": {},
     "output_type": "execute_result"
    },
    {
     "name": "stdout",
     "output_type": "stream",
     "text": [
      "Collecting git+https://github.com/plotly/publisher.git\n",
      "  Cloning https://github.com/plotly/publisher.git to /tmp/pip-req-build-Juutug\n",
      "Building wheels for collected packages: publisher\n",
      "  Running setup.py bdist_wheel for publisher ... \u001b[?25ldone\n",
      "\u001b[?25h  Stored in directory: /tmp/pip-ephem-wheel-cache-LVOWux/wheels/99/3e/a0/fbd22ba24cca72bdbaba53dbc23c1768755fb17b3af0f33966\n",
      "Successfully built publisher\n",
      "Installing collected packages: publisher\n",
      "  Found existing installation: publisher 0.11\n",
      "    Uninstalling publisher-0.11:\n",
      "      Successfully uninstalled publisher-0.11\n",
      "Successfully installed publisher-0.11\n",
      "\u001b[33mYou are using pip version 10.0.1, however version 18.1 is available.\n",
      "You should consider upgrading via the 'pip install --upgrade pip' command.\u001b[0m\n"
     ]
    }
   ],
   "source": [
    "from IPython.display import display, HTML\n",
    "\n",
    "display(HTML('<link href=\"//fonts.googleapis.com/css?family=Open+Sans:600,400,300,200|Inconsolata|Ubuntu+Mono:400,700\" rel=\"stylesheet\" type=\"text/css\" />'))\n",
    "display(HTML('<link rel=\"stylesheet\" type=\"text/css\" href=\"http://help.plot.ly/documentation/all_static/css/ipython-notebook-custom.css\">'))\n",
    "\n",
    "! pip install git+https://github.com/plotly/publisher.git --upgrade\n",
    "import publisher\n",
    "\n",
    "publisher.publish(\n",
    "    '3d-hover-options.ipynb', 'python/3d-hover/', 'Python 3D Hover Options | Plotly',\n",
    "    'How to customize 3d hover options in python with Plotly.',\n",
    "    title= 'Python 3D Hover Options | Plotly',\n",
    "    name = '3D Hover Options',\n",
    "    has_thumbnail='true', thumbnail='thumbnail/3d-hover.png', \n",
    "    language='python',\n",
    "    display_as='3', order=19,\n",
    "    ipynb= '~notebook_demo/257')"
   ]
  },
  {
   "cell_type": "code",
   "execution_count": null,
   "metadata": {
    "collapsed": true
   },
   "outputs": [],
   "source": []
  }
 ],
 "metadata": {
  "anaconda-cloud": {},
  "kernelspec": {
   "display_name": "Python 2",
   "language": "python",
   "name": "python2"
  },
  "language_info": {
   "codemirror_mode": {
    "name": "ipython",
    "version": 2
   },
   "file_extension": ".py",
   "mimetype": "text/x-python",
   "name": "python",
   "nbconvert_exporter": "python",
   "pygments_lexer": "ipython2",
   "version": "2.7.15rc1"
  }
 },
 "nbformat": 4,
 "nbformat_minor": 2
}

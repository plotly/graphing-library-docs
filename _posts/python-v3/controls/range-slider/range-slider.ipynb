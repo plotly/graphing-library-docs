{
 "cells": [
  {
   "cell_type": "markdown",
   "metadata": {},
   "source": [
    "#### New to Plotly?\n",
    "Plotly's Python library is free and open source! [Get started](https://plotly.com/python/getting-started/) by downloading the client and [reading the primer](https://plotly.com/python/getting-started/).\n",
    "<br>You can set up Plotly to work in [online](https://plotly.com/python/getting-started/#initialization-for-online-plotting) or [offline](https://plotly.com/python/getting-started/#initialization-for-offline-plotting) mode, or in [jupyter notebooks](https://plotly.com/python/getting-started/#start-plotting-online).\n",
    "<br>We also have a quick-reference [cheatsheet](https://images.plot.ly/plotly-documentation/images/python_cheat_sheet.pdf) (new!) to help you get started!"
   ]
  },
  {
   "cell_type": "markdown",
   "metadata": {},
   "source": [
    "#### Version Check\n",
    "Note: range sliders and range selectors are available in version <b>1.9.7+</b><br>\n",
    "Run  `pip install plotly --upgrade` to update your Plotly version"
   ]
  },
  {
   "cell_type": "code",
   "execution_count": 1,
   "metadata": {},
   "outputs": [
    {
     "data": {
      "text/plain": [
       "'3.1.0'"
      ]
     },
     "execution_count": 1,
     "metadata": {},
     "output_type": "execute_result"
    }
   ],
   "source": [
    "import plotly\n",
    "\n",
    "plotly.__version__"
   ]
  },
  {
   "cell_type": "markdown",
   "metadata": {},
   "source": [
    "#### Basic Range Slider and Range Selectors"
   ]
  },
  {
   "cell_type": "code",
   "execution_count": 2,
   "metadata": {},
   "outputs": [
    {
     "data": {
      "text/html": [
       "<iframe id=\"igraph\" scrolling=\"no\" style=\"border:none;\" seamless=\"seamless\" src=\"https://plotly.com/~PythonPlotBot/3029.embed\" height=\"525px\" width=\"100%\"></iframe>"
      ],
      "text/plain": [
       "<plotly.tools.PlotlyDisplay object>"
      ]
     },
     "execution_count": 2,
     "metadata": {},
     "output_type": "execute_result"
    }
   ],
   "source": [
    "import plotly.plotly as py\n",
    "import plotly.graph_objs as go \n",
    "\n",
    "from datetime import datetime\n",
    "import pandas as pd\n",
    "\n",
    "df = pd.read_csv('https://raw.githubusercontent.com/plotly/datasets/master/finance-charts-apple.csv')\n",
    "df.columns = [col.replace('AAPL.', '') for col in df.columns]\n",
    "\n",
    "trace = go.Scatter(x=list(df.Date),\n",
    "                   y=list(df.High))\n",
    "\n",
    "data = [trace]\n",
    "layout = dict(\n",
    "    title='Time series with range slider and selectors',\n",
    "    xaxis=dict(\n",
    "        rangeselector=dict(\n",
    "            buttons=list([\n",
    "                dict(count=1,\n",
    "                     label='1m',\n",
    "                     step='month',\n",
    "                     stepmode='backward'),\n",
    "                dict(count=6,\n",
    "                     label='6m',\n",
    "                     step='month',\n",
    "                     stepmode='backward'),\n",
    "                dict(count=1,\n",
    "                    label='YTD',\n",
    "                    step='year',\n",
    "                    stepmode='todate'),\n",
    "                dict(count=1,\n",
    "                    label='1y',\n",
    "                    step='year',\n",
    "                    stepmode='backward'),\n",
    "                dict(step='all')\n",
    "            ])\n",
    "        ),\n",
    "        rangeslider=dict(\n",
    "            visible = True\n",
    "        ),\n",
    "        type='date'\n",
    "    )\n",
    ")\n",
    "\n",
    "fig = dict(data=data, layout=layout)\n",
    "py.iplot(fig)"
   ]
  },
  {
   "cell_type": "markdown",
   "metadata": {},
   "source": [
    "#### Range Slider with Vertically Stacked Subplots"
   ]
  },
  {
   "cell_type": "code",
   "execution_count": 3,
   "metadata": {},
   "outputs": [
    {
     "data": {
      "text/html": [
       "<iframe id=\"igraph\" scrolling=\"no\" style=\"border:none;\" seamless=\"seamless\" src=\"https://plotly.com/~priyatharsan/88.embed\" height=\"525px\" width=\"100%\"></iframe>"
      ],
      "text/plain": [
       "<plotly.tools.PlotlyDisplay object>"
      ]
     },
     "execution_count": 3,
     "metadata": {},
     "output_type": "execute_result"
    }
   ],
   "source": [
    "import plotly.plotly as py\n",
    "import plotly.graph_objs as go\n",
    "\n",
    "trace1 = go.Scatter(\n",
    "     x = [\"2013-01-15\", \"2013-01-29\", \"2013-02-26\", \"2013-04-19\", \"2013-07-02\", \"2013-08-27\",\n",
    "         \"2013-10-22\", \"2014-01-20\", \"2014-05-05\", \"2014-07-01\", \"2015-02-09\", \"2015-04-13\",\n",
    "         \"2015-05-13\", \"2015-06-08\", \"2015-08-05\", \"2016-02-25\"], \n",
    "    y = [\"8\", \"3\", \"2\", \"10\", \"5\", \"5\", \"6\", \"8\", \"3\", \"3\", \"7\", \"5\", \"10\", \"10\", \"9\", \"14\"], \n",
    "    name = \"var0\", \n",
    "    text = [\"8\", \"3\", \"2\", \"10\", \"5\", \"5\", \"6\", \"8\", \"3\", \"3\", \"7\", \"5\", \"10\", \"10\", \"9\", \"14\"], \n",
    "    yaxis = \"y\", \n",
    ")\n",
    "\n",
    "trace2 = go.Scatter(\n",
    "    x = [\"2015-04-13\", \"2015-05-13\", \"2015-06-08\", \"2015-08-05\", \"2016-02-25\"], \n",
    "    y = [\"53.0\", \"69.0\", \"89.0\", \"41.0\", \"41.0\"], \n",
    "    name = \"var1\", \n",
    "    text = [\"53.0\", \"69.0\", \"89.0\", \"41.0\", \"41.0\"], \n",
    "    yaxis = \"y2\", \n",
    ")\n",
    "\n",
    "trace3 = go.Scatter(\n",
    "    x = [\"2013-01-29\", \"2013-02-26\", \"2013-04-19\", \"2013-07-02\", \"2013-08-27\", \"2013-10-22\",\n",
    "         \"2014-01-20\", \"2014-04-09\", \"2014-05-05\", \"2014-07-01\", \"2014-09-30\", \"2015-02-09\",\n",
    "         \"2015-04-13\", \"2015-06-08\", \"2016-02-25\"], \n",
    "    y = [\"9.6\", \"4.6\", \"2.7\", \"8.3\", \"18\", \"7.3\", \"3\", \"7.5\", \"1.0\", \"0.5\", \"2.8\", \"9.2\",\n",
    "        \"13\", \"5.8\", \"6.9\"], \n",
    "    name =  \"var2\", \n",
    "    text =  [\"9.6\", \"4.6\", \"2.7\", \"8.3\", \"18\", \"7.3\", \"3\", \"7.5\", \"1.0\", \"0.5\", \"2.8\", \"9.2\",\n",
    "            \"13\", \"5.8\", \"6.9\"], \n",
    "    yaxis = \"y3\",\n",
    ")\n",
    "\n",
    "trace4 = go.Scatter(\n",
    "    x = [\"2013-01-29\", \"2013-02-26\", \"2013-04-19\", \"2013-07-02\", \"2013-08-27\", \"2013-10-22\",\n",
    "         \"2014-01-20\", \"2014-04-09\", \"2014-05-05\", \"2014-07-01\", \"2014-09-30\", \"2015-02-09\",\n",
    "         \"2015-04-13\", \"2015-06-08\", \"2016-02-25\"], \n",
    "    y = [\"6.9\", \"7.5\", \"7.3\", \"7.3\", \"6.9\", \"7.1\", \"8\", \"7.8\", \"7.4\", \"7.9\", \"7.9\", \"7.6\",\n",
    "         \"7.2\", \"7.2\", \"8.0\"], \n",
    "    name = \"var3\", \n",
    "    text = [\"6.9\", \"7.5\", \"7.3\", \"7.3\", \"6.9\", \"7.1\", \"8\", \"7.8\", \"7.4\", \"7.9\", \"7.9\", \"7.6\",\n",
    "            \"7.2\", \"7.2\", \"8.0\"], \n",
    "    yaxis = \"y4\",\n",
    ")\n",
    "\n",
    "trace5 = go.Scatter(\n",
    "    x = [\"2013-02-26\", \"2013-07-02\", \"2013-09-26\", \"2013-10-22\", \"2013-12-04\", \"2014-01-02\",\n",
    "         \"2014-01-20\", \"2014-05-05\", \"2014-07-01\", \"2015-02-09\", \"2015-05-05\"], \n",
    "    y = [\"290\", \"1078\", \"263\", \"407\", \"660\", \"740\", \"33\", \"374\", \"95\", \"734\", \"3000\"], \n",
    "    name = \"var4\", \n",
    "    text = [\"290\", \"1078\", \"263\", \"407\", \"660\", \"740\", \"33\", \"374\", \"95\", \"734\", \"3000\"], \n",
    "    yaxis = \"y5\",\n",
    ")\n",
    "\n",
    "data = [trace1, trace2, trace3, trace4, trace5]\n",
    "\n",
    "# style all the traces\n",
    "for k in range(len(data)):\n",
    "    data[k].update(\n",
    "        {\n",
    "            \"hoverinfo\": \"name+x+text\",\n",
    "            \"line\": {\"width\": 0.5}, \n",
    "            \"marker\": {\"size\": 8},\n",
    "            \"mode\": \"lines+markers\",\n",
    "            \"showlegend\": False\n",
    "        }\n",
    "    )\n",
    "\n",
    "layout = {\n",
    "  \"annotations\": [\n",
    "    {\n",
    "      \"x\": \"2013-06-01\", \n",
    "      \"y\": 0, \n",
    "      \"arrowcolor\": \"rgba(63, 81, 181, 0.2)\", \n",
    "      \"arrowsize\": 0.3, \n",
    "      \"ax\": 0, \n",
    "      \"ay\": 30, \n",
    "      \"text\": \"state1\", \n",
    "      \"xref\": \"x\", \n",
    "      \"yanchor\": \"bottom\", \n",
    "      \"yref\": \"y\"\n",
    "    }, \n",
    "    {\n",
    "      \"x\": \"2014-09-13\", \n",
    "      \"y\": 0, \n",
    "      \"arrowcolor\": \"rgba(76, 175, 80, 0.1)\", \n",
    "      \"arrowsize\": 0.3, \n",
    "      \"ax\": 0,\n",
    "      \"ay\": 30,\n",
    "      \"text\": \"state2\",\n",
    "      \"xref\": \"x\", \n",
    "      \"yanchor\": \"bottom\", \n",
    "      \"yref\": \"y\"\n",
    "    }\n",
    "  ], \n",
    "  \"dragmode\": \"zoom\", \n",
    "  \"hovermode\": \"x\", \n",
    "  \"legend\": {\"traceorder\": \"reversed\"}, \n",
    "  \"margin\": {\n",
    "    \"t\": 100, \n",
    "    \"b\": 100\n",
    "  }, \n",
    "  \"shapes\": [\n",
    "    {\n",
    "      \"fillcolor\": \"rgba(63, 81, 181, 0.2)\", \n",
    "      \"line\": {\"width\": 0}, \n",
    "      \"type\": \"rect\", \n",
    "      \"x0\": \"2013-01-15\", \n",
    "      \"x1\": \"2013-10-17\", \n",
    "      \"xref\": \"x\", \n",
    "      \"y0\": 0, \n",
    "      \"y1\": 0.95, \n",
    "      \"yref\": \"paper\"\n",
    "    }, \n",
    "    {\n",
    "      \"fillcolor\": \"rgba(76, 175, 80, 0.1)\", \n",
    "      \"line\": {\"width\": 0}, \n",
    "      \"type\": \"rect\", \n",
    "      \"x0\": \"2013-10-22\", \n",
    "      \"x1\": \"2015-08-05\", \n",
    "      \"xref\": \"x\", \n",
    "      \"y0\": 0, \n",
    "      \"y1\": 0.95, \n",
    "      \"yref\": \"paper\"\n",
    "    }\n",
    "  ], \n",
    "  \"xaxis\": {\n",
    "    \"autorange\": True, \n",
    "    \"range\": [\"2012-10-31 18:36:37.3129\", \"2016-05-10 05:23:22.6871\"], \n",
    "    \"rangeslider\": {\n",
    "      \"autorange\": True, \n",
    "      \"range\": [\"2012-10-31 18:36:37.3129\", \"2016-05-10 05:23:22.6871\"]\n",
    "    }, \n",
    "    \"type\": \"date\"\n",
    "  }, \n",
    "  \"yaxis\": {\n",
    "    \"anchor\": \"x\", \n",
    "    \"autorange\": True, \n",
    "    \"domain\": [0, 0.2], \n",
    "    \"linecolor\": \"#673ab7\", \n",
    "    \"mirror\": True, \n",
    "    \"range\": [-60.0858369099, 28.4406294707], \n",
    "    \"showline\": True, \n",
    "    \"side\": \"right\", \n",
    "    \"tickfont\": {\"color\": \"#673ab7\"}, \n",
    "    \"tickmode\": \"auto\", \n",
    "    \"ticks\": \"\", \n",
    "    \"titlefont\": {\"color\": \"#673ab7\"}, \n",
    "    \"type\": \"linear\", \n",
    "    \"zeroline\": False\n",
    "  }, \n",
    "  \"yaxis2\": {\n",
    "    \"anchor\": \"x\", \n",
    "    \"autorange\": True, \n",
    "    \"domain\": [0.2, 0.4], \n",
    "    \"linecolor\": \"#E91E63\", \n",
    "    \"mirror\": True, \n",
    "    \"range\": [29.3787777032, 100.621222297], \n",
    "    \"showline\": True, \n",
    "    \"side\": \"right\", \n",
    "    \"tickfont\": {\"color\": \"#E91E63\"}, \n",
    "    \"tickmode\": \"auto\", \n",
    "    \"ticks\": \"\", \n",
    "    \"titlefont\": {\"color\": \"#E91E63\"}, \n",
    "    \"type\": \"linear\", \n",
    "    \"zeroline\": False\n",
    "  }, \n",
    "  \"yaxis3\": {\n",
    "    \"anchor\": \"x\", \n",
    "    \"autorange\": True, \n",
    "    \"domain\": [0.4, 0.6], \n",
    "    \"linecolor\": \"#795548\", \n",
    "    \"mirror\": True, \n",
    "    \"range\": [-3.73690396239, 22.2369039624], \n",
    "    \"showline\": True, \n",
    "    \"side\": \"right\", \n",
    "    \"tickfont\": {\"color\": \"#795548\"}, \n",
    "    \"tickmode\": \"auto\", \n",
    "    \"ticks\": \"\", \n",
    "    \"title\": \"mg/L\", \n",
    "    \"titlefont\": {\"color\": \"#795548\"}, \n",
    "    \"type\": \"linear\", \n",
    "    \"zeroline\": False\n",
    "  }, \n",
    "  \"yaxis4\": {\n",
    "    \"anchor\": \"x\", \n",
    "    \"autorange\": True, \n",
    "    \"domain\": [0.6, 0.8], \n",
    "    \"linecolor\": \"#607d8b\", \n",
    "    \"mirror\": True, \n",
    "    \"range\": [6.63368032236, 8.26631967764], \n",
    "    \"showline\": True, \n",
    "    \"side\": \"right\", \n",
    "    \"tickfont\": {\"color\": \"#607d8b\"}, \n",
    "    \"tickmode\": \"auto\", \n",
    "    \"ticks\": \"\", \n",
    "    \"title\": \"mmol/L\", \n",
    "    \"titlefont\": {\"color\": \"#607d8b\"}, \n",
    "    \"type\": \"linear\", \n",
    "    \"zeroline\": False\n",
    "  }, \n",
    "  \"yaxis5\": {\n",
    "    \"anchor\": \"x\", \n",
    "    \"autorange\": True, \n",
    "    \"domain\": [0.8, 1], \n",
    "    \"linecolor\": \"#2196F3\", \n",
    "    \"mirror\": True, \n",
    "    \"range\": [-685.336803224, 3718.33680322], \n",
    "    \"showline\": True, \n",
    "    \"side\": \"right\", \n",
    "    \"tickfont\": {\"color\": \"#2196F3\"}, \n",
    "    \"tickmode\": \"auto\",\n",
    "    \"ticks\": \"\", \n",
    "    \"title\": \"mg/Kg\", \n",
    "    \"titlefont\": {\"color\": \"#2196F3\"}, \n",
    "    \"type\": \"linear\", \n",
    "    \"zeroline\": False\n",
    "  }\n",
    "}\n",
    "fig = go.Figure(data=data, layout=layout)\n",
    "py.iplot(fig)"
   ]
  },
  {
   "cell_type": "markdown",
   "metadata": {},
   "source": [
    "#### Reference\n",
    "See https://plotly.com/python/reference/#layout-xaxis-rangeselector <br>and https://plotly.com/python/reference/#layout-xaxis-rangeslider <br>for more information and attribute options!"
   ]
  },
  {
   "cell_type": "code",
   "execution_count": 3,
   "metadata": {},
   "outputs": [
    {
     "data": {
      "text/html": [
       "<link href=\"//fonts.googleapis.com/css?family=Open+Sans:600,400,300,200|Inconsolata|Ubuntu+Mono:400,700\" rel=\"stylesheet\" type=\"text/css\" />"
      ],
      "text/plain": [
       "<IPython.core.display.HTML object>"
      ]
     },
     "metadata": {},
     "output_type": "display_data"
    },
    {
     "data": {
      "text/html": [
       "<link rel=\"stylesheet\" type=\"text/css\" href=\"http://help.plot.ly/documentation/all_static/css/ipython-notebook-custom.css\">"
      ],
      "text/plain": [
       "<IPython.core.display.HTML object>"
      ]
     },
     "metadata": {},
     "output_type": "display_data"
    },
    {
     "name": "stdout",
     "output_type": "stream",
     "text": [
      "Collecting git+https://github.com/plotly/publisher.git\n",
      "  Cloning https://github.com/plotly/publisher.git to /tmp/pip-req-build-tnqm9bfa\n",
      "Building wheels for collected packages: publisher\n",
      "  Running setup.py bdist_wheel for publisher ... \u001b[?25ldone\n",
      "\u001b[?25h  Stored in directory: /tmp/pip-ephem-wheel-cache-p5b8pc0s/wheels/99/3e/a0/fbd22ba24cca72bdbaba53dbc23c1768755fb17b3af0f33966\n",
      "Successfully built publisher\n",
      "Installing collected packages: publisher\n",
      "  Found existing installation: publisher 0.13\n",
      "    Uninstalling publisher-0.13:\n",
      "      Successfully uninstalled publisher-0.13\n",
      "Successfully installed publisher-0.13\n",
      "\u001b[33mYou are using pip version 10.0.1, however version 18.1 is available.\n",
      "You should consider upgrading via the 'pip install --upgrade pip' command.\u001b[0m\n"
     ]
    }
   ],
   "source": [
    "from IPython.display import display, HTML\n",
    "\n",
    "display(HTML('<link href=\"//fonts.googleapis.com/css?family=Open+Sans:600,400,300,200|Inconsolata|Ubuntu+Mono:400,700\" rel=\"stylesheet\" type=\"text/css\" />'))\n",
    "display(HTML('<link rel=\"stylesheet\" type=\"text/css\" href=\"http://help.plot.ly/documentation/all_static/css/ipython-notebook-custom.css\">'))\n",
    "\n",
    "! pip install git+https://github.com/plotly/publisher.git --upgrade\n",
    "import publisher\n",
    "publisher.publish(\n",
    "    'range-slider.ipynb', 'python/range-slider/', 'Python Range Slider and Selectors | plotly',\n",
    "    'Now you can implement range sliders and selectors in your Plotly graphs purely with python!',\n",
    "    title = 'Python Range Slider and Selectors | plotly',\n",
    "    name = 'Range Slider and Selector',\n",
    "    thumbnail='thumbnail/sliders.jpg', language='python',\n",
    "    page_type='example_index', has_thumbnail='true', display_as='controls', order=3,\n",
    "    ipynb='~notebook_demo/211')"
   ]
  },
  {
   "cell_type": "code",
   "execution_count": null,
   "metadata": {},
   "outputs": [],
   "source": []
  }
 ],
 "metadata": {
  "kernelspec": {
   "display_name": "Python 3",
   "language": "python",
   "name": "python3"
  },
  "language_info": {
   "codemirror_mode": {
    "name": "ipython",
    "version": 3
   },
   "file_extension": ".py",
   "mimetype": "text/x-python",
   "name": "python",
   "nbconvert_exporter": "python",
   "pygments_lexer": "ipython3",
   "version": "3.6.5"
  }
 },
 "nbformat": 4,
 "nbformat_minor": 2
}
